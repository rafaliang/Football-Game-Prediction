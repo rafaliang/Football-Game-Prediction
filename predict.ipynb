{
 "cells": [
  {
   "cell_type": "code",
   "execution_count": 5,
   "metadata": {
    "collapsed": true
   },
   "outputs": [],
   "source": [
    "## Importing required libraries\n",
    "import sqlite3\n",
    "import csv\n",
    "import pandas as pd\n",
    "import numpy as np\n",
    "import seaborn as sns\n",
    "import itertools\n",
    "import matplotlib.pyplot as plt\n",
    "from sklearn.ensemble import GradientBoostingClassifier\n",
    "from sklearn.ensemble import AdaBoostClassifier \n",
    "from sklearn.ensemble import RandomForestClassifier\n",
    "from sklearn.naive_bayes import GaussianNB\n",
    "from sklearn.neighbors import KNeighborsClassifier\n",
    "from sklearn import linear_model\n",
    "from sklearn.metrics import confusion_matrix\n",
    "from sklearn.metrics import classification_report, accuracy_score\n",
    "from sklearn.calibration import CalibratedClassifierCV\n",
    "from sklearn import model_selection\n",
    "from sklearn.model_selection import train_test_split\n",
    "from sklearn.metrics import make_scorer\n",
    "from time import time\n",
    "from sklearn.decomposition import PCA, FastICA\n",
    "from sklearn.pipeline import Pipeline\n",
    "import warnings\n",
    "import random\n",
    "\n",
    "warnings.simplefilter(\"ignore\")"
   ]
  },
  {
   "cell_type": "code",
   "execution_count": 4,
   "metadata": {
    "collapsed": false
   },
   "outputs": [
    {
     "name": "stdout",
     "output_type": "stream",
     "text": [
      "Reading data...\n",
      "done\n"
     ]
    }
   ],
   "source": [
    "###  Read from csv\n",
    "print (\"Reading data...\")\n",
    "\n",
    "data = []\n",
    "labels = []\n",
    "featureName = []\n",
    "file = open(\"washed_data.csv\")\n",
    "for l in csv.reader(file):\n",
    "    data.append(l[1:])\n",
    "featureName = data[0]\n",
    "del data[0]\n",
    "\n",
    "file = open(\"alllabel.csv\")\n",
    "for l in csv.reader(file):\n",
    "    labels.append(l[1:][0])\n",
    "#del labels[0]\n",
    "\n",
    "\n",
    "print (\"done\")"
   ]
  },
  {
   "cell_type": "code",
   "execution_count": 41,
   "metadata": {
    "collapsed": false
   },
   "outputs": [],
   "source": [
    "### pre-process on X and y\n",
    "for i in range(len(data)):\n",
    "    for j in range(len(data[i])):\n",
    "        if data[i][j]=='' or np.isnan(data[i][j]):\n",
    "            data[i][j]=0\n",
    "        else: data[i][j] = float(data[i][j])"
   ]
  },
  {
   "cell_type": "code",
   "execution_count": 9,
   "metadata": {
    "collapsed": false
   },
   "outputs": [],
   "source": [
    "### split train, validation, test data\n",
    "trainX = []\n",
    "trainy = []\n",
    "validateX = []\n",
    "validatey = []\n",
    "testX = []\n",
    "testy = []\n",
    "for i in range (len(data)):\n",
    "    rdm = np.random.random()\n",
    "    if rdm<0.6:\n",
    "        trainX.append(data[i])\n",
    "        trainy.append(labels[i])\n",
    "    elif rdm<0.8:\n",
    "        validateX.append(data[i])\n",
    "        validatey.append(labels[i])\n",
    "    else:\n",
    "        testX.append(data[i])\n",
    "        testy.append(labels[i])"
   ]
  },
  {
   "cell_type": "code",
   "execution_count": 45,
   "metadata": {
    "collapsed": false
   },
   "outputs": [],
   "source": [
    "###  calculate accuracy\n",
    "def getAcc(predicty, testy):\n",
    "    correctCnt = 0\n",
    "    for i in range(len(testy)):\n",
    "        if predicty[i] == testy[i]:\n",
    "            correctCnt += 1\n",
    "    return correctCnt*1.0/len(testy)"
   ]
  },
  {
   "cell_type": "code",
   "execution_count": 47,
   "metadata": {
    "collapsed": false
   },
   "outputs": [
    {
     "name": "stdout",
     "output_type": "stream",
     "text": [
      "accuracy of baseline is 0.4640497473766032\n"
     ]
    }
   ],
   "source": [
    "###  baseline: predict every match as home team wins\n",
    "predicty = ['Win']*len(testy)\n",
    "acc = getAcc(predicty,testy)\n",
    "print (\"accuracy of baseline is \"+str(acc))"
   ]
  },
  {
   "cell_type": "code",
   "execution_count": 48,
   "metadata": {
    "collapsed": false
   },
   "outputs": [
    {
     "name": "stdout",
     "output_type": "stream",
     "text": [
      "accuracy of LR is 0.40730664593859306\n"
     ]
    }
   ],
   "source": [
    "###   try logistic regression\n",
    "logClf = linear_model.LogisticRegression(multi_class = \"ovr\", solver = \"sag\", class_weight = 'balanced')\n",
    "logClf.fit(trainX,trainy)\n",
    "predicty = logClf.predict(testX)\n",
    "acc = getAcc(predicty,testy)\n",
    "print (\"accuracy of LR is \"+str(acc))"
   ]
  },
  {
   "cell_type": "code",
   "execution_count": null,
   "metadata": {
    "collapsed": true
   },
   "outputs": [],
   "source": []
  }
 ],
 "metadata": {
  "anaconda-cloud": {
   "attach-environment": true,
   "summary": "prediction"
  },
  "kernelspec": {
   "display_name": "Python [conda root]",
   "language": "python",
   "name": "conda-root-py"
  },
  "language_info": {
   "codemirror_mode": {
    "name": "ipython",
    "version": 3
   },
   "file_extension": ".py",
   "mimetype": "text/x-python",
   "name": "python",
   "nbconvert_exporter": "python",
   "pygments_lexer": "ipython3",
   "version": "3.5.2"
  }
 },
 "nbformat": 4,
 "nbformat_minor": 1
}
